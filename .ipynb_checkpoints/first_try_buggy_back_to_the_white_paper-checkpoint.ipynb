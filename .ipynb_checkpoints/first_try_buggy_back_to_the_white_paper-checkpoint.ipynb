{
 "cells": [
  {
   "cell_type": "code",
   "execution_count": 118,
   "id": "01698317-d3b9-43f1-9c9b-d5943b9a9724",
   "metadata": {},
   "outputs": [],
   "source": [
    "def i_for_a_certain_power(power):\n",
    "    '''\n",
    "      Power >= 1\n",
    "      Start from power = 1\n",
    "        i^power...cycle:\n",
    "            i^1 = i\n",
    "            i^2 = -1\n",
    "            i^3 = -i\n",
    "            i^4 = 1\n",
    "            THEN the cycle starts again\n",
    "                  \n",
    "    '''\n",
    "    i= 1\n",
    "    count = 1\n",
    "    while(count <= power):\n",
    "    \n",
    "        if i==1:\n",
    "            answer = 'i'\n",
    "            if(count==power):\n",
    "                break\n",
    "            i= i+1\n",
    "        \n",
    "        if i==2:\n",
    "            answer = '-1'\n",
    "            if(count==power):\n",
    "                break\n",
    "            i=i+1\n",
    "        \n",
    "        if i==3:\n",
    "            answer = '-i'\n",
    "            if(count == power):\n",
    "                break\n",
    "            i=i+1\n",
    "        #if i==4:\n",
    "        #    answer = '1'\n",
    "        #    i= 1                     \n",
    "        count = count +1\n",
    "        print(count)\n",
    "    return answer"
   ]
  },
  {
   "cell_type": "code",
   "execution_count": 119,
   "id": "55be0442-98e7-4839-a536-87238961f71b",
   "metadata": {},
   "outputs": [
    {
     "name": "stdout",
     "output_type": "stream",
     "text": [
      "2\n",
      "3\n"
     ]
    },
    {
     "data": {
      "text/plain": [
       "'-i'"
      ]
     },
     "execution_count": 119,
     "metadata": {},
     "output_type": "execute_result"
    }
   ],
   "source": [
    "i_for_a_certain_power(2)\n",
    "####FIRST VERSION IS BUGGY GO BACK TO WRITTING IT ALLLL OUT #################\n"
   ]
  },
  {
   "cell_type": "code",
   "execution_count": 123,
   "id": "cae2be25-dd2d-4bfe-9621-f6521b6716f3",
   "metadata": {},
   "outputs": [],
   "source": [
    "def how_many_four_cycles(power):\n",
    "    count = 1\n",
    "    one_on = False\n",
    "    two_on = False\n",
    "    three_on = False\n",
    "    four_on = False\n",
    "    cycle = 1\n",
    "    answer = ''\n",
    "    while count <=4:\n",
    "        count = count + 1\n",
    "        print(cycle)        \n",
    "        if cycle == 1:\n",
    "            plus_one = True\n",
    "        elif cycle == 2:\n",
    "            plus_two = True\n",
    "        elif cycle == 3:\n",
    "            plus_three = True\n",
    "        elif cycle == 4:\n",
    "            plus_four = True\n",
    "            cycle = 1\n",
    "\n",
    "        cycle = cycle + 1\n",
    "    "
   ]
  },
  {
   "cell_type": "code",
   "execution_count": null,
   "id": "b55dddc9-9098-4171-8953-89a4af1e780a",
   "metadata": {},
   "outputs": [],
   "source": []
  }
 ],
 "metadata": {
  "kernelspec": {
   "display_name": "Python 3",
   "language": "python",
   "name": "python3"
  },
  "language_info": {
   "codemirror_mode": {
    "name": "ipython",
    "version": 3
   },
   "file_extension": ".py",
   "mimetype": "text/x-python",
   "name": "python",
   "nbconvert_exporter": "python",
   "pygments_lexer": "ipython3",
   "version": "3.8.5"
  }
 },
 "nbformat": 4,
 "nbformat_minor": 5
}
