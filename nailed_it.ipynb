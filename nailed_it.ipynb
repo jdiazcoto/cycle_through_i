{
 "cells": [
  {
   "cell_type": "code",
   "execution_count": 1,
   "id": "cae2be25-dd2d-4bfe-9621-f6521b6716f3",
   "metadata": {},
   "outputs": [],
   "source": [
    "def i_th_to_the_relvant(power):\n",
    "    count = 1\n",
    "    cycle = 1\n",
    "    answer = ''\n",
    "    while count <=power:\n",
    "        count = count + 1\n",
    "              \n",
    "        if cycle == 1:\n",
    "            answer =  'i'\n",
    "            cycle = cycle + 1\n",
    "        elif cycle == 2:\n",
    "            answer = '-1'\n",
    "            cycle = cycle + 1\n",
    "        elif cycle == 3:\n",
    "            answer = '-i'\n",
    "            cycle = cycle + 1\n",
    "        elif cycle == 4:\n",
    "            answer= '1'\n",
    "            cycle = cycle + 1\n",
    "            cycle = 1\n",
    "        \n",
    "    return answer"
   ]
  },
  {
   "cell_type": "code",
   "execution_count": 2,
   "id": "b55dddc9-9098-4171-8953-89a4af1e780a",
   "metadata": {},
   "outputs": [
    {
     "data": {
      "text/plain": [
       "'-1'"
      ]
     },
     "execution_count": 2,
     "metadata": {},
     "output_type": "execute_result"
    }
   ],
   "source": [
    "i_th_to_the_relvant(35678)"
   ]
  },
  {
   "cell_type": "code",
   "execution_count": null,
   "id": "f82f3f14-496e-458b-bc44-f6cb2b2aa346",
   "metadata": {},
   "outputs": [],
   "source": []
  }
 ],
 "metadata": {
  "kernelspec": {
   "display_name": "Python 3",
   "language": "python",
   "name": "python3"
  },
  "language_info": {
   "codemirror_mode": {
    "name": "ipython",
    "version": 3
   },
   "file_extension": ".py",
   "mimetype": "text/x-python",
   "name": "python",
   "nbconvert_exporter": "python",
   "pygments_lexer": "ipython3",
   "version": "3.8.5"
  }
 },
 "nbformat": 4,
 "nbformat_minor": 5
}
