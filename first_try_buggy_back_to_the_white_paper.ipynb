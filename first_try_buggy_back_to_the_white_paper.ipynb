{
 "cells": [
  {
   "cell_type": "code",
   "execution_count": 154,
   "id": "e73a2b35-d1ac-4069-af80-d79103473823",
   "metadata": {},
   "outputs": [],
   "source": [
    "def i_for_a_certain_power(power):\n",
    "    '''\n",
    "      Power >= 1\n",
    "      Start from power = 1\n",
    "        i^power...cycle:\n",
    "            i^1 = i\n",
    "            i^2 = -1\n",
    "            i^3 = -i\n",
    "            i^4 = 1\n",
    "            THEN the cycle starts again\n",
    "                  \n",
    "    '''\n",
    "    i= 1\n",
    "    count = 1\n",
    "    while(count <= power):\n",
    "    \n",
    "        if i==1:\n",
    "            answer = 'i'\n",
    "            if(count==power):\n",
    "                break\n",
    "            i= i+1\n",
    "        \n",
    "        if i==2:\n",
    "            answer = '-1'\n",
    "            if(count==power):\n",
    "                break\n",
    "            i=i+1\n",
    "        \n",
    "        if i==3:\n",
    "            answer = '-i'\n",
    "            if(count == power):\n",
    "                break\n",
    "            i=i+1\n",
    "        #if i==4:\n",
    "        #    answer = '1'\n",
    "        #    i= 1                     \n",
    "        count = count +1\n",
    "        print(count)\n",
    "    return answer"
   ]
  },
  {
   "cell_type": "code",
   "execution_count": 155,
   "id": "6c95dd99-b9a0-488c-9c93-2a851fd4ea9d",
   "metadata": {},
   "outputs": [
    {
     "name": "stdout",
     "output_type": "stream",
     "text": [
      "2\n",
      "3\n"
     ]
    },
    {
     "data": {
      "text/plain": [
       "'-i'"
      ]
     },
     "execution_count": 155,
     "metadata": {},
     "output_type": "execute_result"
    }
   ],
   "source": [
    "i_for_a_certain_power(2)\n",
    "####FIRST VERSION IS BUGGY GO BACK TO WRITTING IT ALLLL OUT #################\n"
   ]
  },
  {
   "cell_type": "code",
   "execution_count": 149,
   "id": "cae2be25-dd2d-4bfe-9621-f6521b6716f3",
   "metadata": {},
   "outputs": [],
   "source": [
    "def i_th_to_the_relvant(power):\n",
    "    count = 1\n",
    "    cycle = 1\n",
    "    answer = ''\n",
    "    while count <=power:\n",
    "        count = count + 1\n",
    "              \n",
    "        if cycle == 1:\n",
    "            answer =  'i'\n",
    "            cycle = cycle + 1\n",
    "        elif cycle == 2:\n",
    "            answer = '-1'\n",
    "            cycle = cycle + 1\n",
    "        elif cycle == 3:\n",
    "            answer = '-i'\n",
    "            cycle = cycle + 1\n",
    "        elif cycle == 4:\n",
    "            answer= '1'\n",
    "            cycle = cycle + 1\n",
    "            cycle = 1\n",
    "        \n",
    "    return answer"
   ]
  },
  {
   "cell_type": "code",
   "execution_count": 153,
   "id": "b55dddc9-9098-4171-8953-89a4af1e780a",
   "metadata": {},
   "outputs": [
    {
     "data": {
      "text/plain": [
       "'-1'"
      ]
     },
     "execution_count": 153,
     "metadata": {},
     "output_type": "execute_result"
    }
   ],
   "source": [
    "i_th_to_the_relvant(35678)"
   ]
  },
  {
   "cell_type": "code",
   "execution_count": null,
   "id": "f82f3f14-496e-458b-bc44-f6cb2b2aa346",
   "metadata": {},
   "outputs": [],
   "source": []
  }
 ],
 "metadata": {
  "kernelspec": {
   "display_name": "Python 3",
   "language": "python",
   "name": "python3"
  },
  "language_info": {
   "codemirror_mode": {
    "name": "ipython",
    "version": 3
   },
   "file_extension": ".py",
   "mimetype": "text/x-python",
   "name": "python",
   "nbconvert_exporter": "python",
   "pygments_lexer": "ipython3",
   "version": "3.8.5"
  }
 },
 "nbformat": 4,
 "nbformat_minor": 5
}
